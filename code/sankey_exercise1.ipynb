{
 "cells": [
  {
   "cell_type": "code",
   "execution_count": 35,
   "id": "86667435-a0c8-4a85-b693-fc06a07e7960",
   "metadata": {},
   "outputs": [],
   "source": [
    "import pandas as pd # import pands to handle csv\n",
    "from pyecharts.charts import Page,Sankey \n",
    "from pyecharts import options as opts\n",
    "import collections # try to use OrderedDict"
   ]
  },
  {
   "cell_type": "code",
   "execution_count": 36,
   "id": "da534e70-36eb-4e9c-a730-57342f6501de",
   "metadata": {
    "collapsed": true,
    "jupyter": {
     "outputs_hidden": true
    },
    "tags": []
   },
   "outputs": [
    {
     "name": "stdout",
     "output_type": "stream",
     "text": [
      "                        0       1    2\n",
      "0             automobiles  import   10\n",
      "1           fossil\\nfuels  import   30\n",
      "2                    ores     DEU   50\n",
      "3   agricultural\\nproduct     DEU  100\n",
      "4                  import     DMI   40\n",
      "5                     DEU     DMI  150\n",
      "6                     DMI  export   20\n",
      "7                     DMI     DMC  170\n",
      "8                     DMC     NAS  145\n",
      "9                     DMC     DPO   25\n",
      "10                    NAS   Stock  145\n",
      "11                 export      A1   20\n",
      "12                  Stock      A1  145\n",
      "13                    DPO      A1   25\n"
     ]
    }
   ],
   "source": [
    "data = pd.read_csv('sankey_exercise1.csv',sep = ';',encoding = 'utf-8',header=None) # data and data stream(hidden stored) are stored in this csv \n",
    "print(data)"
   ]
  },
  {
   "cell_type": "code",
   "execution_count": 37,
   "id": "ae763c20-5a7a-4e07-8332-be5f91614bba",
   "metadata": {
    "tags": []
   },
   "outputs": [
    {
     "name": "stdout",
     "output_type": "stream",
     "text": [
      "[{'name': 'A1'}, OrderedDict([('name', 'automobiles')]), OrderedDict([('name', 'fossil\\nfuels')]), OrderedDict([('name', 'ores')]), OrderedDict([('name', 'agricultural\\nproduct')]), OrderedDict([('name', 'import')]), OrderedDict([('name', 'DEU')]), OrderedDict([('name', 'DMI')]), OrderedDict([('name', 'DMC')]), OrderedDict([('name', 'NAS')]), OrderedDict([('name', 'export')]), OrderedDict([('name', 'Stock')]), OrderedDict([('name', 'DPO')])]\n"
     ]
    }
   ],
   "source": [
    "nodes = []\n",
    "nodes.append({'name':'A1'})\n",
    "for i in data[0].unique():\n",
    "    dictnode = {}\n",
    "    dictnode = collections.OrderedDict()\n",
    "    dictnode['name'] = i\n",
    "    nodes.append(dictnode)\n",
    "print(nodes)"
   ]
  },
  {
   "cell_type": "code",
   "execution_count": 38,
   "id": "fd96e5fd-1e9e-4d27-8701-32843e7d464e",
   "metadata": {
    "collapsed": true,
    "jupyter": {
     "outputs_hidden": true
    },
    "tags": []
   },
   "outputs": [
    {
     "name": "stdout",
     "output_type": "stream",
     "text": [
      "[OrderedDict([('source', 'automobiles'), ('target', 'import'), ('value', 10)]), OrderedDict([('source', 'fossil\\nfuels'), ('target', 'import'), ('value', 30)]), OrderedDict([('source', 'ores'), ('target', 'DEU'), ('value', 50)]), OrderedDict([('source', 'agricultural\\nproduct'), ('target', 'DEU'), ('value', 100)]), OrderedDict([('source', 'import'), ('target', 'DMI'), ('value', 40)]), OrderedDict([('source', 'DEU'), ('target', 'DMI'), ('value', 150)]), OrderedDict([('source', 'DMI'), ('target', 'export'), ('value', 20)]), OrderedDict([('source', 'DMI'), ('target', 'DMC'), ('value', 170)]), OrderedDict([('source', 'DMC'), ('target', 'NAS'), ('value', 145)]), OrderedDict([('source', 'DMC'), ('target', 'DPO'), ('value', 25)]), OrderedDict([('source', 'NAS'), ('target', 'Stock'), ('value', 145)]), OrderedDict([('source', 'export'), ('target', 'A1'), ('value', 20)]), OrderedDict([('source', 'Stock'), ('target', 'A1'), ('value', 145)]), OrderedDict([('source', 'DPO'), ('target', 'A1'), ('value', 25)])]\n"
     ]
    }
   ],
   "source": [
    "links = []\n",
    "for i in data.values:\n",
    "    diclink = {}\n",
    "    diclink = collections.OrderedDict()\n",
    "    diclink['source'] = i[0]\n",
    "    diclink['target'] = i[1]\n",
    "    diclink['value'] = i[2]\n",
    "    links.append(diclink)\n",
    "print(links)"
   ]
  },
  {
   "cell_type": "code",
   "execution_count": 39,
   "id": "0abd3d35-1eb8-4908-9576-327263063d0a",
   "metadata": {},
   "outputs": [
    {
     "data": {
      "text/plain": [
       "'C:\\\\Users\\\\fxhuang\\\\Desktop\\\\result0430.html'"
      ]
     },
     "execution_count": 39,
     "metadata": {},
     "output_type": "execute_result"
    }
   ],
   "source": [
    "c = (Sankey().add(\"scale/tone\",nodes,links,linestyle_opt=opts.LineStyleOpts(opacity=0.2, curve=0.5, color=\"source\",type_=\"dotted\"),label_opts=opts.LabelOpts(position=\"right\",),).set_global_opts(title_opts=opts.TitleOpts(title=\"sankey_exercise1\")))\n",
    "c.render('result0430.html')"
   ]
  }
 ],
 "metadata": {
  "kernelspec": {
   "display_name": "Python 3",
   "language": "python",
   "name": "python3"
  },
  "language_info": {
   "codemirror_mode": {
    "name": "ipython",
    "version": 3
   },
   "file_extension": ".py",
   "mimetype": "text/x-python",
   "name": "python",
   "nbconvert_exporter": "python",
   "pygments_lexer": "ipython3",
   "version": "3.7.10"
  }
 },
 "nbformat": 4,
 "nbformat_minor": 5
}
