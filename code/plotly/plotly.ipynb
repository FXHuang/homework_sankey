{
 "cells": [
  {
   "cell_type": "code",
   "execution_count": 2,
   "id": "993141e6",
   "metadata": {},
   "outputs": [],
   "source": [
    "import plotly\n",
    "import plotly.graph_objs as go"
   ]
  },
  {
   "cell_type": "code",
   "execution_count": 3,
   "id": "3778de0d",
   "metadata": {},
   "outputs": [
    {
     "data": {
      "text/plain": [
       "'temp-plot.html'"
      ]
     },
     "execution_count": 3,
     "metadata": {},
     "output_type": "execute_result"
    }
   ],
   "source": [
    "trace = go.Box( x = [1, 2, 3, 4, 5, 6, 7] )\n",
    "data = [trace]\n",
    "plotly.offline.plot(data)  # 离线方式使用：offline"
   ]
  },
  {
   "cell_type": "code",
   "execution_count": 15,
   "id": "82a5282b",
   "metadata": {
    "collapsed": true
   },
   "outputs": [
    {
     "data": {
      "text/plain": [
       "'sankey_example.html'"
      ]
     },
     "execution_count": 15,
     "metadata": {},
     "output_type": "execute_result"
    }
   ],
   "source": [
    "data_example = dict(type='sankey',node = dict(label = [\"原料1\", \"原料2\", \"中间产物1\", \"中间产物2\", \"成果\", \"损耗\"],\\\n",
    "                                      color = [\"blue\", \"blue\", \"green\", \"green\", \"black\", \"red\"]),\\\n",
    "                                  link = dict(source = [0,1,0,2,3,3,2],\\\n",
    "                                        target = [2,3,3,4,4,5,5],value = [8,4,2,6,4,2,2]))\n",
    "\n",
    "layout =  dict(title = \"原料转化路径图\")\n",
    "fig = dict(data=[data_example],layout=layout)     # 注意这里的data被转化为数据，可以支持同时绘制多个图形\n",
    "plotly.offline.plot(fig, filename='sankey_example.html',validate=False,auto_open = True)"
   ]
  },
  {
   "cell_type": "code",
   "execution_count": 35,
   "id": "60cc9e12",
   "metadata": {},
   "outputs": [
    {
     "data": {
      "text/plain": [
       "'sankey_plotly.html'"
      ]
     },
     "execution_count": 35,
     "metadata": {},
     "output_type": "execute_result"
    }
   ],
   "source": [
    "data1 = dict(type='sankey',node = dict(label = [\"import\", \"DEU\", \"DMI\", \"Export\", \"DMC\",\"NAS\",\"DPO\"],\\\n",
    "                                      color = [\"blue\", \"blue\", \"green\", \"green\", \"black\", \"red\",\"green\"],\\\n",
    "                                      line = dict(color = \"balck\",width = 0.5), thickness = 15 , pad = 100),\\\n",
    "                        link = dict(source = [0,1,2,2,4,4],\\\n",
    "                                    target = [2,2,4,3,5,6],value = [40,150,170,20,145,25]))\n",
    "layout1 =  dict(title = \"ew-MFA\")\n",
    "fig = dict(data=[data1],layout=layout1)     # 注意这里的data被转化为数据，可以支持同时绘制多个图形\n",
    "plotly.offline.plot(fig, filename='sankey_plotly.html',validate=False,auto_open = True)"
   ]
  }
 ],
 "metadata": {
  "kernelspec": {
   "display_name": "Python 3",
   "language": "python",
   "name": "python3"
  },
  "language_info": {
   "codemirror_mode": {
    "name": "ipython",
    "version": 3
   },
   "file_extension": ".py",
   "mimetype": "text/x-python",
   "name": "python",
   "nbconvert_exporter": "python",
   "pygments_lexer": "ipython3",
   "version": "3.7.10"
  }
 },
 "nbformat": 4,
 "nbformat_minor": 5
}
